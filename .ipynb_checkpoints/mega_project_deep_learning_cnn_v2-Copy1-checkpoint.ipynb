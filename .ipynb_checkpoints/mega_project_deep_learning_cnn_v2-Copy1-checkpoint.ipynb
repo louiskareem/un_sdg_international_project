{
 "cells": [
  {
   "cell_type": "markdown",
   "metadata": {},
   "source": [
    "#### Version 2.0\n",
    "\n",
    "The project I am working on requires me to build and hopefully deploy a machine learning model. I am part of the TIA group, which focuses on the waste management problem in South Africa.\n",
    "\n",
    "My group's solution is mainly around the idea of a smart bin. \n",
    "\n",
    "The algorithm I will be using in this project is Deep Learning's Convolutional Neural Network. Which is widely used and praised for its accuracy and performance on image classification. In this project, I will be classifying images of waste. "
   ]
  },
  {
   "cell_type": "markdown",
   "metadata": {},
   "source": [
    "#### Import the essential packages that will be used."
   ]
  },
  {
   "cell_type": "code",
   "execution_count": 1,
   "metadata": {},
   "outputs": [],
   "source": [
    "# deep learning\n",
    "from keras.models import Sequential\n",
    "from keras.layers import Conv2D, MaxPooling2D\n",
    "from keras.layers import Activation, Dropout, Flatten, Dense\n",
    "from keras.callbacks import EarlyStopping\n",
    "\n",
    "# saving model\n",
    "import pickle\n",
    "\n",
    "# visualization\n",
    "import matplotlib.pyplot as plt\n",
    "import scipy\n",
    "import seaborn as sns\n",
    "from keras.utils.vis_utils import plot_model\n",
    "\n",
    "# processing and data generation\n",
    "import numpy as np\n",
    "from keras.preprocessing.image import ImageDataGenerator\n",
    "from keras.preprocessing import image\n",
    "from keras import backend as K"
   ]
  },
  {
   "cell_type": "markdown",
   "metadata": {},
   "source": [
    "#### Directory and define the labels/features\n",
    "\n",
    "* I'm giving the images a fixed width and height of 200 x 200.\n",
    "* train_data_dir and validation_data_dir are the locations of the data\n",
    "* For this model, we will be using 400 samples for training and 100 samples for validating.\n",
    "* We will use 50 for the batch size and 20 epochs.\n",
    "\n",
    "ref: https://docs.paperspace.com/machine-learning/wiki/epoch"
   ]
  },
  {
   "cell_type": "code",
   "execution_count": 2,
   "metadata": {},
   "outputs": [],
   "source": [
    "# set the image dimenions, all images will have height & width set to 200x200\n",
    "img_width, img_height = 200, 200\n",
    "\n",
    "# directory\n",
    "train_data_dir = 'organic_and_recyclable/'\n",
    "validation_data_dir = 'organic_and_recyclable/'\n",
    "\n",
    "# amount of samples that will be used in training and validation sets\n",
    "nb_train_samples = 400\n",
    "nb_validation_samples = 100\n",
    "\n",
    "# An epoch elapses when an entire dataset is passed forward and backward through the neural network exactly one time\n",
    "epochs = 20\n",
    "# Batch size is the total number of training samples present in a single min-batch\n",
    "batch_size = 50"
   ]
  },
  {
   "cell_type": "markdown",
   "metadata": {},
   "source": [
    "#### Clean data\n",
    "\n",
    "Here we are checking if the image is in the right format. For our model we will use RGB, since its waste images, it wiser to keep the color of the images as well. With dimensions 200 x 200.\n",
    "\n",
    "ref: https://www.tensorflow.org/api_docs/python/tf/keras/preprocessing/image/ImageDataGenerator\n",
    "ref: https://www.codesofinterest.com/2017/09/keras-image-data-format.html"
   ]
  },
  {
   "cell_type": "code",
   "execution_count": 3,
   "metadata": {},
   "outputs": [],
   "source": [
    "if K.image_data_format() == 'channels_first': #rgb\n",
    "    input_shape = (3, img_width, img_height) # 3 for 3 layers\n",
    "else:\n",
    "    input_shape = (img_width, img_height, 3)"
   ]
  },
  {
   "cell_type": "markdown",
   "metadata": {},
   "source": [
    "#### Generate training and tests sets\n",
    "\n",
    "Below are the references, you can go see what the parameters are.\n",
    "\n",
    "ref: https://vijayabhaskar96.medium.com/tutorial-on-keras-imagedatagenerator-with-flow-from-dataframe-8bd5776e45c1\n",
    "ref: https://www.tensorflow.org/api_docs/python/tf/keras/preprocessing/image/ImageDataGenerator#flow_from_directory"
   ]
  },
  {
   "cell_type": "code",
   "execution_count": 4,
   "metadata": {},
   "outputs": [],
   "source": [
    "# preprocessing the training set\n",
    "train_data_gen = ImageDataGenerator(rescale = 1. / 255, shear_range = 0.2, zoom_range = 0.2, horizontal_flip = True)"
   ]
  },
  {
   "cell_type": "code",
   "execution_count": 5,
   "metadata": {},
   "outputs": [],
   "source": [
    "# preprocessing the test set\n",
    "test_data_gen = ImageDataGenerator(rescale = 1. / 255)"
   ]
  },
  {
   "cell_type": "code",
   "execution_count": 6,
   "metadata": {},
   "outputs": [
    {
     "name": "stdout",
     "output_type": "stream",
     "text": [
      "Found 671 images belonging to 2 classes.\n"
     ]
    }
   ],
   "source": [
    "# generate the data\n",
    "train_generator = train_data_gen.flow_from_directory(\n",
    "    train_data_dir, target_size=(img_width, img_height), color_mode=\"rgb\", batch_size=batch_size, class_mode = 'binary')"
   ]
  },
  {
   "cell_type": "code",
   "execution_count": 7,
   "metadata": {},
   "outputs": [
    {
     "name": "stdout",
     "output_type": "stream",
     "text": [
      "Found 671 images belonging to 2 classes.\n"
     ]
    }
   ],
   "source": [
    "# generate the data\n",
    "validation_generator = test_data_gen.flow_from_directory(\n",
    "    validation_data_dir, target_size=(img_width, img_height), batch_size=batch_size, class_mode = 'binary')"
   ]
  },
  {
   "cell_type": "markdown",
   "metadata": {},
   "source": [
    "Above you can see, they are 671 images each for the two classes that we will be using in our CNN model.\n",
    "\n",
    "Below you can the 2 classes that are being mentioned above. \n",
    "Class O for Organic and Class R for Recyclable"
   ]
  },
  {
   "cell_type": "code",
   "execution_count": 8,
   "metadata": {},
   "outputs": [
    {
     "name": "stdout",
     "output_type": "stream",
     "text": [
      "{'O': 0, 'R': 1}\n"
     ]
    }
   ],
   "source": [
    "print(train_generator.class_indices)"
   ]
  },
  {
   "cell_type": "markdown",
   "metadata": {},
   "source": [
    "#### Create neural network\n",
    "Create neural network with Keras's Sequential\n",
    "\n",
    "ref: https://keras.io/api/models/sequential/\n",
    "ref: https://www.ibm.com/cloud/learn/convolutional-neural-networks#toc-convolutio-JgBTyG9C\n",
    "ref: https://towardsdatascience.com/a-comprehensive-guide-to-convolutional-neural-networks-the-eli5-way-3bd2b1164a53\n",
    "ref: https://www.tensorflow.org/tutorials/images/classification\n",
    "ref: https://keras.io/api/layers/convolution_layers/convolution2d/\n",
    "ref: https://medium.com/analytics-vidhya/a-guide-to-neural-network-layers-with-applications-in-keras-40ccb7ebb57a\n",
    "ref: https://www.upgrad.com/blog/basic-cnn-architecture/\n",
    "ref: https://www.geeksforgeeks.org/activation-functions-neural-networks/\n",
    "ref: https://www.baeldung.com/cs/ml-relu-dropout-layers#:~:text=The%20Dropout%20layer%20is%20a%20mask%20that%20nullifies,in%20which%20case%20it%20nullifies%20some%20hidden%20neurons.\n",
    "ref: https://tiddler.github.io/optimizers/"
   ]
  },
  {
   "cell_type": "code",
   "execution_count": 9,
   "metadata": {},
   "outputs": [],
   "source": [
    "# create Sequential object\n",
    "model = Sequential()\n",
    "\n",
    "# Add a Convolutional layer\n",
    "# 32 are the number of output filters in the convolution, \n",
    "# (3,3) is tuple/list of a single integer, specifying the length of the 1D convolution window\n",
    "model.add(Conv2D(32, (3, 3), input_shape=input_shape))\n",
    "# Activation function is relu\n",
    "model.add(Activation('relu'))\n",
    "# Adding our max pooling layer\n",
    "model.add(MaxPooling2D(pool_size=(2, 2)))\n",
    "\n",
    "# Add a Convolutional layer\n",
    "model.add(Conv2D(32, (3, 3)))\n",
    "# Activation function is relu\n",
    "model.add(Activation('relu'))\n",
    "# Adding our max pooling layer\n",
    "model.add(MaxPooling2D(pool_size=(2, 2)))\n",
    "\n",
    "# Add a Convolutional layer\n",
    "model.add(Conv2D(64, (3, 3)))\n",
    "# Activation function is relu\n",
    "model.add(Activation('relu'))\n",
    "# ading our max pooling layer\n",
    "model.add(MaxPooling2D(pool_size=(2, 2)))\n",
    "\n",
    "# Add a Convolutional layer\n",
    "model.add(Conv2D(128, (3, 3)))\n",
    "# Activation function is relu\n",
    "model.add(Activation('relu'))\n",
    "# ading our max pooling layer\n",
    "model.add(MaxPooling2D(pool_size=(2, 2)))\n",
    "\n",
    "# Add a Convolutional layer\n",
    "model.add(Conv2D(64, (3, 3)))\n",
    "# Activation function is relu\n",
    "model.add(Activation('relu'))\n",
    "# ading our max pooling layer\n",
    "model.add(MaxPooling2D(pool_size=(2, 2)))\n",
    "\n",
    "# Adding Our flattening Layer (flatten the image from 2d to 1d image)\n",
    "model.add(Flatten())\n",
    "\n",
    "# Fully Connected Layer\n",
    "model.add(Dense(32))\n",
    "# Activation function is relu\n",
    "model.add(Activation('relu'))\n",
    "\n",
    "# Dropout layers are important in training CNNs because they prevent overfitting on the training data\n",
    "model.add(Dropout(0.5))\n",
    "\n",
    "# Add the output layer, one output, whether 0 or 1, sigmoid activation makes this possible\n",
    "model.add(Dense(1))\n",
    "# Activation function is sigmoid\n",
    "model.add(Activation('sigmoid'))"
   ]
  },
  {
   "cell_type": "markdown",
   "metadata": {},
   "source": [
    "#### Summary\n",
    "\n",
    "ref: https://www.machinecurve.com/index.php/2020/04/01/how-to-generate-a-summary-of-your-keras-model/\n",
    "ref: https://izziswift.com/keras-model-summary-result-understanding-the-of-parameters/\n",
    "ref: https://machinelearningmastery.com/visualize-deep-learning-neural-network-model-keras/#:~:text=Keras%20provides%20a%20way%20to%20summarize%20a%20model.,the%20model.%20The%20output%20shape%20of%20each%20layer."
   ]
  },
  {
   "cell_type": "code",
   "execution_count": 10,
   "metadata": {},
   "outputs": [
    {
     "name": "stdout",
     "output_type": "stream",
     "text": [
      "Model: \"sequential\"\n",
      "_________________________________________________________________\n",
      "Layer (type)                 Output Shape              Param #   \n",
      "=================================================================\n",
      "conv2d (Conv2D)              (None, 198, 198, 32)      896       \n",
      "_________________________________________________________________\n",
      "activation (Activation)      (None, 198, 198, 32)      0         \n",
      "_________________________________________________________________\n",
      "max_pooling2d (MaxPooling2D) (None, 99, 99, 32)        0         \n",
      "_________________________________________________________________\n",
      "conv2d_1 (Conv2D)            (None, 97, 97, 32)        9248      \n",
      "_________________________________________________________________\n",
      "activation_1 (Activation)    (None, 97, 97, 32)        0         \n",
      "_________________________________________________________________\n",
      "max_pooling2d_1 (MaxPooling2 (None, 48, 48, 32)        0         \n",
      "_________________________________________________________________\n",
      "conv2d_2 (Conv2D)            (None, 46, 46, 64)        18496     \n",
      "_________________________________________________________________\n",
      "activation_2 (Activation)    (None, 46, 46, 64)        0         \n",
      "_________________________________________________________________\n",
      "max_pooling2d_2 (MaxPooling2 (None, 23, 23, 64)        0         \n",
      "_________________________________________________________________\n",
      "conv2d_3 (Conv2D)            (None, 21, 21, 128)       73856     \n",
      "_________________________________________________________________\n",
      "activation_3 (Activation)    (None, 21, 21, 128)       0         \n",
      "_________________________________________________________________\n",
      "max_pooling2d_3 (MaxPooling2 (None, 10, 10, 128)       0         \n",
      "_________________________________________________________________\n",
      "conv2d_4 (Conv2D)            (None, 8, 8, 64)          73792     \n",
      "_________________________________________________________________\n",
      "activation_4 (Activation)    (None, 8, 8, 64)          0         \n",
      "_________________________________________________________________\n",
      "max_pooling2d_4 (MaxPooling2 (None, 4, 4, 64)          0         \n",
      "_________________________________________________________________\n",
      "flatten (Flatten)            (None, 1024)              0         \n",
      "_________________________________________________________________\n",
      "dense (Dense)                (None, 32)                32800     \n",
      "_________________________________________________________________\n",
      "activation_5 (Activation)    (None, 32)                0         \n",
      "_________________________________________________________________\n",
      "dropout (Dropout)            (None, 32)                0         \n",
      "_________________________________________________________________\n",
      "dense_1 (Dense)              (None, 1)                 33        \n",
      "_________________________________________________________________\n",
      "activation_6 (Activation)    (None, 1)                 0         \n",
      "=================================================================\n",
      "Total params: 209,121\n",
      "Trainable params: 209,121\n",
      "Non-trainable params: 0\n",
      "_________________________________________________________________\n"
     ]
    }
   ],
   "source": [
    "# Show what was the neural network has done\n",
    "model.summary()"
   ]
  },
  {
   "cell_type": "markdown",
   "metadata": {},
   "source": [
    "Below, the size of input images are 200x200. We used 3x3 filters so the size of feature maps are 198x198. \n",
    "The size is reduced to half in the first pooling layer. At each convolution-pooling layer pair, the size is reduced but features in the images are preserved (for example the 32, 64 and 128). In this model, we have more than 200k parameters to train, which is a lot."
   ]
  },
  {
   "cell_type": "markdown",
   "metadata": {},
   "source": [
    "Let's plot the model to have a better view of the model"
   ]
  },
  {
   "cell_type": "code",
   "execution_count": 20,
   "metadata": {},
   "outputs": [
    {
     "name": "stdout",
     "output_type": "stream",
     "text": [
      "Requirement already satisfied: pydot in c:\\users\\gebruiker\\appdata\\roaming\\python\\python38\\site-packages (1.4.2)\n",
      "Requirement already satisfied: pyparsing>=2.1.4 in c:\\users\\gebruiker\\anaconda3\\lib\\site-packages (from pydot) (2.4.7)\n",
      "Note: you may need to restart the kernel to use updated packages.\n"
     ]
    },
    {
     "name": "stderr",
     "output_type": "stream",
     "text": [
      "WARNING: You are using pip version 21.1.1; however, version 21.1.2 is available.\n",
      "You should consider upgrading via the 'C:\\Users\\Gebruiker\\anaconda3\\python.exe -m pip install --upgrade pip' command.\n"
     ]
    }
   ],
   "source": [
    "pip install pydot"
   ]
  },
  {
   "cell_type": "code",
   "execution_count": 21,
   "metadata": {},
   "outputs": [
    {
     "name": "stdout",
     "output_type": "stream",
     "text": [
      "Requirement already satisfied: graphviz in c:\\users\\gebruiker\\appdata\\roaming\\python\\python38\\site-packages (0.16)\n",
      "Note: you may need to restart the kernel to use updated packages.\n"
     ]
    },
    {
     "name": "stderr",
     "output_type": "stream",
     "text": [
      "WARNING: You are using pip version 21.1.1; however, version 21.1.2 is available.\n",
      "You should consider upgrading via the 'C:\\Users\\Gebruiker\\anaconda3\\python.exe -m pip install --upgrade pip' command.\n"
     ]
    }
   ],
   "source": [
    "pip install graphviz"
   ]
  },
  {
   "cell_type": "code",
   "execution_count": 22,
   "metadata": {},
   "outputs": [
    {
     "name": "stdout",
     "output_type": "stream",
     "text": [
      "('Failed to import pydot. You must `pip install pydot` and install graphviz (https://graphviz.gitlab.io/download/), ', 'for `pydotprint` to work.')\n"
     ]
    }
   ],
   "source": [
    "plot_model(model, to_file='model_plot.png', show_shapes=True, show_layer_names=True)"
   ]
  },
  {
   "cell_type": "markdown",
   "metadata": {},
   "source": [
    "#### Compiling and Fitting/Training model\n",
    "\n",
    "In the next steps, we are going to implement EarlyStopping callback from Keras. This stops the model from training when a monitored metric has stopped improving.\n",
    "Then we move on to compile the model with loss as binary_crossentropy since it's a binary problem and not a categorical problem. (Binary: 0 or 1/O or R). We will accuracy as metrics and adam for the optimizer.\n",
    "Lastly, we train the model\n",
    "\n",
    "ref: https://towardsdatascience.com/a-quick-guide-to-neural-network-optimizers-with-applications-in-keras-e4635dd1cca4\n",
    "ref: https://keras.io/api/callbacks/early_stopping/\n",
    "ref: https://nickmccullum.com/python-deep-learning/convolutional-neural-network-tutorial/#training-the-convolutional-neural-network\n",
    "ref: https://docs.paperspace.com/machine-learning/wiki/accuracy-and-loss"
   ]
  },
  {
   "cell_type": "code",
   "execution_count": 12,
   "metadata": {},
   "outputs": [],
   "source": [
    "# patience: Number of epochs with no improvement after which training will be stopped. \n",
    "# Since we have 20 epochs, it seems wise to have patience at 5\n",
    "early_stopping = EarlyStopping(monitor='val_accuracy', patience=5)"
   ]
  },
  {
   "cell_type": "code",
   "execution_count": 13,
   "metadata": {},
   "outputs": [],
   "source": [
    "# compile the model.\n",
    "model.compile(loss='binary_crossentropy', optimizer='adam', metrics=['accuracy']) # rmsprop"
   ]
  },
  {
   "cell_type": "code",
   "execution_count": 14,
   "metadata": {},
   "outputs": [
    {
     "name": "stdout",
     "output_type": "stream",
     "text": [
      "Epoch 1/20\n",
      "8/8 [==============================] - 18s 2s/step - loss: 0.6946 - accuracy: 0.5056 - val_loss: 0.6233 - val_accuracy: 0.6000\n",
      "Epoch 2/20\n",
      "8/8 [==============================] - 17s 2s/step - loss: 0.6574 - accuracy: 0.5922 - val_loss: 0.4693 - val_accuracy: 0.7200\n",
      "Epoch 3/20\n",
      "8/8 [==============================] - 20s 2s/step - loss: 0.4825 - accuracy: 0.7527 - val_loss: 0.5109 - val_accuracy: 0.8200\n",
      "Epoch 4/20\n",
      "8/8 [==============================] - 15s 2s/step - loss: 0.3810 - accuracy: 0.8653 - val_loss: 0.2867 - val_accuracy: 0.9100\n",
      "Epoch 5/20\n",
      "8/8 [==============================] - 15s 2s/step - loss: 0.4152 - accuracy: 0.8842 - val_loss: 0.3283 - val_accuracy: 0.8900\n",
      "Epoch 6/20\n",
      "8/8 [==============================] - 15s 2s/step - loss: 0.3150 - accuracy: 0.9064 - val_loss: 0.2041 - val_accuracy: 0.9100\n",
      "Epoch 7/20\n",
      "8/8 [==============================] - 16s 2s/step - loss: 0.3027 - accuracy: 0.8940 - val_loss: 0.5586 - val_accuracy: 0.7800\n",
      "Epoch 8/20\n",
      "8/8 [==============================] - 16s 2s/step - loss: 0.2952 - accuracy: 0.9145 - val_loss: 0.2071 - val_accuracy: 0.9200\n",
      "Epoch 9/20\n",
      "8/8 [==============================] - 16s 2s/step - loss: 0.2978 - accuracy: 0.8783 - val_loss: 0.1556 - val_accuracy: 0.9500\n",
      "Epoch 10/20\n",
      "8/8 [==============================] - 15s 2s/step - loss: 0.1855 - accuracy: 0.9308 - val_loss: 0.1743 - val_accuracy: 0.9400\n",
      "Epoch 11/20\n",
      "8/8 [==============================] - 15s 2s/step - loss: 0.2451 - accuracy: 0.9084 - val_loss: 0.1377 - val_accuracy: 0.9400\n",
      "Epoch 12/20\n",
      "8/8 [==============================] - 16s 2s/step - loss: 0.2229 - accuracy: 0.9019 - val_loss: 0.2229 - val_accuracy: 0.9300\n",
      "Epoch 13/20\n",
      "8/8 [==============================] - 15s 2s/step - loss: 0.2291 - accuracy: 0.9291 - val_loss: 0.1373 - val_accuracy: 0.9500\n",
      "Epoch 14/20\n",
      "8/8 [==============================] - 16s 2s/step - loss: 0.2036 - accuracy: 0.9399 - val_loss: 0.2517 - val_accuracy: 0.9000\n"
     ]
    }
   ],
   "source": [
    "# fit the model\n",
    "history_model = model.fit(train_generator, \n",
    "          steps_per_epoch = nb_train_samples // batch_size, \n",
    "          epochs = epochs, \n",
    "          validation_data = validation_generator,\n",
    "          callbacks=[early_stopping],\n",
    "          validation_steps = nb_validation_samples // batch_size)"
   ]
  },
  {
   "cell_type": "markdown",
   "metadata": {},
   "source": [
    "We can see that the model is working fine. With the help of EarlyStopping, the model stopped at epoch 13. This prevented the model from overfitting. We finished with an validation accuracy rate of 90.0% and validation loss rate of 2.5%"
   ]
  },
  {
   "cell_type": "markdown",
   "metadata": {},
   "source": [
    "#### Evaluate the model"
   ]
  },
  {
   "cell_type": "markdown",
   "metadata": {},
   "source": [
    "ref: https://stackoverflow.com/questions/34518656/how-to-interpret-loss-and-accuracy-for-a-machine-learning-model\n",
    "ref: https://www.javacodemonk.com/difference-between-loss-accuracy-validation-loss-validation-accuracy-in-keras-ff358faa\n",
    "ref: https://kharshit.github.io/blog/2018/12/07/loss-vs-accuracy"
   ]
  },
  {
   "cell_type": "code",
   "execution_count": 15,
   "metadata": {},
   "outputs": [
    {
     "name": "stdout",
     "output_type": "stream",
     "text": [
      "14/14 [==============================] - 6s 448ms/step - loss: 0.3945 - accuracy: 0.8748\n",
      "loss= 0.3944973647594452\n",
      "accuracy= 0.8748137354850769\n"
     ]
    }
   ],
   "source": [
    "score = model.evaluate(validation_generator, verbose=1)\n",
    "\n",
    "# After evaluating our model, we can see that our actual accuracy is 95.67% and our loss is around the 12.12\n",
    "print('loss=', score[0])\n",
    "print('accuracy=', score[1])"
   ]
  },
  {
   "cell_type": "markdown",
   "metadata": {},
   "source": [
    "#### Performance comparisons\n",
    "\n",
    "\"The History.history attribute is a dictionary recording training loss values and metrics values at successive epochs, as well as validation loss values and validation metrics values (if applicable).\""
   ]
  },
  {
   "cell_type": "code",
   "execution_count": 16,
   "metadata": {},
   "outputs": [
    {
     "name": "stdout",
     "output_type": "stream",
     "text": [
      "dict_keys(['loss', 'accuracy', 'val_loss', 'val_accuracy'])\n"
     ]
    }
   ],
   "source": [
    "print(history_model.history.keys())"
   ]
  },
  {
   "cell_type": "code",
   "execution_count": 18,
   "metadata": {},
   "outputs": [
    {
     "data": {
      "image/png": "[encoded data removed]",
      "text/plain": [
       "<Figure size 432x288 with 1 Axes>"
      ]
     },
     "metadata": {
      "needs_background": "light"
     },
     "output_type": "display_data"
    }
   ],
   "source": [
    "# Model Accuracy comparison\n",
    "plt.plot(history_model.history['accuracy'])\n",
    "plt.plot(history_model.history['val_accuracy'])\n",
    "plt.legend(['accuracy','validation_accuracy'])\n",
    "plt.ylabel('accuracy')\n",
    "plt.xlabel('epoch')\n",
    "plt.title('Model Accuracy')\n",
    "plt.show()"
   ]
  },
  {
   "cell_type": "markdown",
   "metadata": {},
   "source": [
    "By looking at the graph above, we can how the model performed. Both the training accuracy and validation accuracy are stable as the epoch go by. EarlyStopping stopped at epoch 13 since there's no more improvement in the model. Both accuracy rates sits above the 90%. So, it looks like the model performed well. "
   ]
  },
  {
   "cell_type": "code",
   "execution_count": 19,
   "metadata": {},
   "outputs": [
    {
     "data": {
      "image/png": "[encoded data removed]",
      "text/plain": [
       "<Figure size 432x288 with 1 Axes>"
      ]
     },
     "metadata": {
      "needs_background": "light"
     },
     "output_type": "display_data"
    }
   ],
   "source": [
    "# Model Loss Comparison\n",
    "plt.plot(history_model.history['loss'])\n",
    "plt.plot(history_model.history['val_loss'])\n",
    "plt.legend(['loss','validation_loss'])\n",
    "plt.ylabel('loss')\n",
    "plt.xlabel('epoch')\n",
    "plt.title('Model Loss')\n",
    "plt.show()"
   ]
  },
  {
   "cell_type": "markdown",
   "metadata": {},
   "source": [
    "By looking at the graph above, we can tell that the model is not being overfitted. Because the validation loss is not higher than the training loss. Just like the accuracy graph we can see here that epoch 7 had a higher loss. After epoch 7 the loss became stable."
   ]
  },
  {
   "cell_type": "markdown",
   "metadata": {},
   "source": [
    "#### Save model"
   ]
  },
  {
   "cell_type": "markdown",
   "metadata": {},
   "source": [
    "Always wise to save the model. Will come in handy when we are to apply it to a real-world setting. \n",
    "Now we're going to check the model's performance on unseen data in another notebook.\n",
    "With a high accuracy of 87.4% we can have a sense of idea how it will perform in a real-world setting."
   ]
  },
  {
   "cell_type": "code",
   "execution_count": 37,
   "metadata": {},
   "outputs": [],
   "source": [
    "model.save('cnn_model_v6.h5')"
   ]
  },
  {
   "cell_type": "code",
   "execution_count": null,
   "metadata": {},
   "outputs": [],
   "source": []
  }
 ],
 "metadata": {
  "kernelspec": {
   "display_name": "Python 3",
   "language": "python",
   "name": "python3"
  },
  "language_info": {
   "codemirror_mode": {
    "name": "ipython",
    "version": 3
   },
   "file_extension": ".py",
   "mimetype": "text/x-python",
   "name": "python",
   "nbconvert_exporter": "python",
   "pygments_lexer": "ipython3",
   "version": "3.8.5"
  }
 },
 "nbformat": 4,
 "nbformat_minor": 4
}
