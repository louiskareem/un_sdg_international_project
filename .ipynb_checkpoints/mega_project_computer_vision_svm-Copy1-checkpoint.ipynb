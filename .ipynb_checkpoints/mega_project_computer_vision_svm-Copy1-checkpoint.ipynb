{
 "cells": [
  {
   "cell_type": "code",
   "execution_count": 5,
   "metadata": {},
   "outputs": [],
   "source": [
    "# provisioning\n",
    "import sklearn as sk\n",
    "import numpy as np\n",
    "import pandas as pd\n",
    "import os\n",
    "import cv2\n",
    "import random\n",
    "\n",
    "#visualization\n",
    "import matplotlib\n",
    "import matplotlib.pyplot as plt\n",
    "from matplotlib.image import imread\n",
    "import seaborn as sns\n",
    "\n",
    "#prediction\n",
    "from sklearn.preprocessing import MinMaxScaler\n",
    "from sklearn import preprocessing\n",
    "from sklearn.svm import SVC\n",
    "from sklearn import metrics\n",
    "from sklearn.model_selection import train_test_split, cross_val_score, KFold\n",
    "from sklearn.metrics import classification_report\n",
    "from sklearn.metrics import plot_confusion_matrix\n",
    "from keras.preprocessing.image import load_img\n",
    "from keras.preprocessing.image import img_to_array\n",
    "from sklearn.model_selection import GridSearchCV\n",
    "\n",
    "%matplotlib inline"
   ]
  },
  {
   "cell_type": "code",
   "execution_count": 6,
   "metadata": {},
   "outputs": [],
   "source": [
    "dir = 'organic_and_recyclable' # 'dataset'"
   ]
  },
  {
   "cell_type": "code",
   "execution_count": 7,
   "metadata": {},
   "outputs": [],
   "source": [
    "features = ['O', 'R'] # ['cardboard', 'glass', 'metal', 'paper', 'plastic', 'trash'] \n",
    "data = []"
   ]
  },
  {
   "cell_type": "code",
   "execution_count": 8,
   "metadata": {},
   "outputs": [],
   "source": [
    "def create_training_data():\n",
    "    for feature in features:\n",
    "        path = os.path.join(dir, feature)\n",
    "        label =  features.index(feature)\n",
    "        \n",
    "        for image in os.listdir(path):\n",
    "            image_path = os.path.join(path, image)\n",
    "\n",
    "            # cv2.IMREAD_COLOR: It specifies to load a color image. \n",
    "            # Any transparency of image will be neglected. It is the default flag. \n",
    "            # Alternatively, we can pass integer value 1 for this flag.\n",
    "            # cv2.IMREAD_GRAYSCALE: It specifies to load an image in grayscale mode. \n",
    "            # Alternatively, we can pass integer value 0 for this flag.\n",
    "            # cv2.IMREAD_UNCHANGED: It specifies to load an image as such including alpha channel. \n",
    "            # Alternatively, we can pass integer value -1 for this flag.\n",
    "            waste_image = plt.imread(image_path)\n",
    "#             print(waste_image.shape)\n",
    "#             imgs = np.reshape(waste_image, (200,200))\n",
    "            try:\n",
    "                # normalize image\n",
    "                waste_image =  np.resize(waste_image, (200,200))\n",
    "                \n",
    "                images = np.array(waste_image).flatten()\n",
    "                # # confirm pixel range is 0-255\n",
    "                # print('Data Type: %s' % images.dtype)\n",
    "                # print('Min: %.3f, Max: %.3f' % (images.min(), images.max()))\n",
    "                \n",
    "                # convert from integers to floats\n",
    "                images = images.astype('float32')\n",
    "                # normalize to the range 0-1\n",
    "                images /= 255.0\n",
    "                # # confirm the normalization\n",
    "                # print('Min: %.3f, Max: %.3f' % (images.min(), images.max()))\n",
    "                data.append([images, label])\n",
    "            except Exception as e:\n",
    "                pass\n",
    "create_training_data()\n"
   ]
  },
  {
   "cell_type": "code",
   "execution_count": 9,
   "metadata": {},
   "outputs": [],
   "source": [
    "# Shuffle the data so that the data is not have 75% organic and 25% recycle data for example.\n",
    "# When that's the case the machine will not learn and perform good. \n",
    "# So, if we shuffle, we can have a random % of organic and recycle data\n",
    "random.shuffle(data)"
   ]
  },
  {
   "cell_type": "code",
   "execution_count": 10,
   "metadata": {},
   "outputs": [
    {
     "name": "stdout",
     "output_type": "stream",
     "text": [
      "5780\n"
     ]
    }
   ],
   "source": [
    "print(len(data))"
   ]
  },
  {
   "cell_type": "code",
   "execution_count": 11,
   "metadata": {},
   "outputs": [],
   "source": [
    "X = []\n",
    "y = []\n",
    "\n",
    "for d, feature in data[0:1000]:    \n",
    "    X.append(d)\n",
    "    y.append(feature)"
   ]
  },
  {
   "cell_type": "code",
   "execution_count": 12,
   "metadata": {},
   "outputs": [],
   "source": [
    "X_train, X_test, y_train, y_test = train_test_split(X, y, test_size=0.3, random_state=42)\n"
   ]
  },
  {
   "cell_type": "code",
   "execution_count": 13,
   "metadata": {},
   "outputs": [
    {
     "name": "stdout",
     "output_type": "stream",
     "text": [
      "0.9442857142857143\n",
      "{'C': 0.1, 'degree': 1, 'gamma': 1, 'kernel': 'rbf'}\n"
     ]
    }
   ],
   "source": [
    "param_grid = { 'C':[0.1,1,100,1000],'kernel':['rbf','poly','sigmoid','linear'],'degree':[1,2,3,4,5,6],'gamma': [1, 0.1, 0.01, 0.001, 0.0001]}\n",
    "gridSC = GridSearchCV(SVC(),param_grid)\n",
    "gridSC.fit(X_train,y_train)\n",
    "print(gridSC.best_score_)\n",
    "print(gridSC.best_params_) # best_score_ best_params_"
   ]
  },
  {
   "cell_type": "code",
   "execution_count": 14,
   "metadata": {},
   "outputs": [
    {
     "name": "stdout",
     "output_type": "stream",
     "text": [
      "Accuracy in percentage: 96.66666666666667\n",
      "              precision    recall  f1-score   support\n",
      "\n",
      "           0       0.00      0.00      0.00        10\n",
      "           1       0.97      1.00      0.98       290\n",
      "\n",
      "    accuracy                           0.97       300\n",
      "   macro avg       0.48      0.50      0.49       300\n",
      "weighted avg       0.93      0.97      0.95       300\n",
      "\n"
     ]
    },
    {
     "name": "stderr",
     "output_type": "stream",
     "text": [
      "C:\\Users\\Gebruiker\\anaconda3\\lib\\site-packages\\sklearn\\metrics\\_classification.py:1221: UndefinedMetricWarning: Precision and F-score are ill-defined and being set to 0.0 in labels with no predicted samples. Use `zero_division` parameter to control this behavior.\n",
      "  _warn_prf(average, modifier, msg_start, len(result))\n"
     ]
    }
   ],
   "source": [
    "grid_predictions = gridSC.predict(X_test)\n",
    "print(\"Accuracy in percentage:\", metrics.accuracy_score(y_test, grid_predictions)*100)\n",
    "print(classification_report(y_test, grid_predictions,  labels=np.unique(y)))"
   ]
  },
  {
   "cell_type": "code",
   "execution_count": 24,
   "metadata": {},
   "outputs": [],
   "source": [
    "from sklearn import metrics\n",
    "from sklearn.metrics import confusion_matrix\n",
    "import seaborn as sns"
   ]
  },
  {
   "cell_type": "code",
   "execution_count": 27,
   "metadata": {},
   "outputs": [
    {
     "name": "stdout",
     "output_type": "stream",
     "text": [
      "0 10 0 290\n",
      "[[  0  10]\n",
      " [  0 290]]\n"
     ]
    }
   ],
   "source": [
    "tn, fp, fn, tp = confusion_matrix(y_test, grid_predictions).ravel()\n",
    "print(tn, fp, fn, tp)\n",
    "\n",
    "cm = confusion_matrix(y_test, grid_predictions)\n",
    "print(cm)"
   ]
  },
  {
   "cell_type": "code",
   "execution_count": null,
   "metadata": {},
   "outputs": [],
   "source": []
  }
 ],
 "metadata": {
  "kernelspec": {
   "display_name": "Python 3",
   "language": "python",
   "name": "python3"
  },
  "language_info": {
   "codemirror_mode": {
    "name": "ipython",
    "version": 3
   },
   "file_extension": ".py",
   "mimetype": "text/x-python",
   "name": "python",
   "nbconvert_exporter": "python",
   "pygments_lexer": "ipython3",
   "version": "3.8.5"
  }
 },
 "nbformat": 4,
 "nbformat_minor": 1
}
