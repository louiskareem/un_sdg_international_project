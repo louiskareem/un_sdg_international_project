{
 "cells": [
  {
   "cell_type": "markdown",
   "metadata": {},
   "source": [
    "#### Demonstration\n",
    "\n",
    "In this notebook, we will test our models on unseen images downloaded from Google.\n",
    "Models used here are the best saved model and the completed model.\n",
    "\n",
    "Completed model means the saved model at the END of the epochs."
   ]
  },
  {
   "cell_type": "markdown",
   "metadata": {},
   "source": [
    "#### Import the essential packages"
   ]
  },
  {
   "cell_type": "code",
   "execution_count": 48,
   "metadata": {},
   "outputs": [],
   "source": [
    "from keras.models import load_model\n",
    "from keras.preprocessing import image\n",
    "import numpy as np\n",
    "import matplotlib.pyplot as plt\n",
    "import matplotlib.image as mpimg\n",
    "import sys, os\n",
    "\n",
    "%matplotlib inline "
   ]
  },
  {
   "cell_type": "markdown",
   "metadata": {},
   "source": [
    "#### Load Models"
   ]
  },
  {
   "cell_type": "code",
   "execution_count": 49,
   "metadata": {},
   "outputs": [],
   "source": [
    "best_model = load_model('best_model_during_training_v3.h5')\n",
    "complete_model = load_model('cnn_model_v8.h5')"
   ]
  },
  {
   "cell_type": "markdown",
   "metadata": {},
   "source": [
    "#### Best Saved Model Performance "
   ]
  },
  {
   "cell_type": "code",
   "execution_count": 50,
   "metadata": {
    "scrolled": true
   },
   "outputs": [],
   "source": [
    "def prediction(val):\n",
    "    path = 'organic_and_recyclable/'\n",
    "    for f in os.listdir(\"organic_and_recyclable\"):\n",
    "        # load an image to be tested (random image from Google)\n",
    "        img_pred = image.load_img('organic_and_recyclable/'+val+'.jpg', \n",
    "                                  target_size=(200,200))\n",
    "\n",
    "        # convert image to numpy array\n",
    "        img_pred = image.img_to_array(img_pred)\n",
    "        # expand the array\n",
    "        img_pred = np.expand_dims(img_pred, axis=0)\n",
    "        # predict the image from the img_pred\n",
    "        result = best_model.predict(img_pred)\n",
    "\n",
    "        if result[0][0] == 1 and f == val+'.jpg':\n",
    "            prediction = 'Recyclable'\n",
    "            img = mpimg.imread('organic_and_recyclable/'+f)\n",
    "            plt.imshow(img, interpolation='nearest')\n",
    "            plt.axis('off')\n",
    "            plt.title(prediction)\n",
    "            plt.show()\n",
    "            break\n",
    "        elif result[0][0] == 0 and f == val+'.jpg':\n",
    "            prediction = 'Organic'\n",
    "            img = mpimg.imread('organic_and_recyclable/'+f)\n",
    "            plt.imshow(img, interpolation='nearest')\n",
    "            plt.axis('off')\n",
    "            plt.title(prediction)\n",
    "            plt.show()\n",
    "            break"
   ]
  },
  {
   "cell_type": "markdown",
   "metadata": {},
   "source": [
    "#### Run script"
   ]
  },
  {
   "cell_type": "code",
   "execution_count": 62,
   "metadata": {},
   "outputs": [
    {
     "name": "stdout",
     "output_type": "stream",
     "text": [
      "org1\n"
     ]
    }
   ],
   "source": [
    "org_input = input()\n",
    "# rec_input = input()\n",
    "\n",
    "if __name__ == '__main__':\n",
    "    prediction(org_input)\n",
    "#     prediction(rec_input)"
   ]
  },
  {
   "cell_type": "markdown",
   "metadata": {},
   "source": [
    "We can see that our best saved model with an accuracy of 95.0% has a good performance in classifying the waste images."
   ]
  },
  {
   "cell_type": "markdown",
   "metadata": {},
   "source": [
    "#### Complete Model Performance"
   ]
  },
  {
   "cell_type": "code",
   "execution_count": null,
   "metadata": {},
   "outputs": [],
   "source": [
    "def prediction(val):\n",
    "    path = 'organic_and_recyclable/'\n",
    "    for f in os.listdir(\"organic_and_recyclable\"):\n",
    "        # load an image to be tested (random image from Google)\n",
    "        img_pred = image.load_img('organic_and_recyclable/'+val+'.jpg', \n",
    "                                  target_size=(200,200))\n",
    "\n",
    "        # convert image to numpy array\n",
    "        img_pred = image.img_to_array(img_pred)\n",
    "        # expand the array\n",
    "        img_pred = np.expand_dims(img_pred, axis=0)\n",
    "        # predict the image from the img_pred\n",
    "        c_result = complete_model.predict(img_pred)\n",
    "            \n",
    "        if c_result[0][0] == 1 and f == val+'.jpg':\n",
    "            prediction = 'Recyclable'\n",
    "            img = mpimg.imread('organic_and_recyclable/'+f)\n",
    "            plt.imshow(img, interpolation='nearest')\n",
    "            plt.axis('off')\n",
    "            plt.title(prediction)\n",
    "            plt.show()\n",
    "            break\n",
    "        elif c_result[0][0] == 0 and f == val+'.jpg':\n",
    "            prediction = 'Organic'\n",
    "            img = mpimg.imread('organic_and_recyclable/'+f)\n",
    "            plt.imshow(img, interpolation='nearest')\n",
    "            plt.axis('off')\n",
    "            plt.title(prediction)\n",
    "            plt.show()\n",
    "            break"
   ]
  },
  {
   "cell_type": "markdown",
   "metadata": {},
   "source": [
    "#### Run script"
   ]
  },
  {
   "cell_type": "code",
   "execution_count": null,
   "metadata": {},
   "outputs": [],
   "source": [
    "org_input = input()\n",
    "# rec_input = input()\n",
    "\n",
    "if __name__ == '__main__':\n",
    "    prediction(org_input)\n",
    "#     prediction(rec_input)"
   ]
  },
  {
   "cell_type": "markdown",
   "metadata": {},
   "source": [
    "Here we see that the completed model with accuracy of 79.7% peformed worse than the best saved model."
   ]
  }
 ],
 "metadata": {
  "kernelspec": {
   "display_name": "Python 3",
   "language": "python",
   "name": "python3"
  },
  "language_info": {
   "codemirror_mode": {
    "name": "ipython",
    "version": 3
   },
   "file_extension": ".py",
   "mimetype": "text/x-python",
   "name": "python",
   "nbconvert_exporter": "python",
   "pygments_lexer": "ipython3",
   "version": "3.8.5"
  }
 },
 "nbformat": 4,
 "nbformat_minor": 4
}
