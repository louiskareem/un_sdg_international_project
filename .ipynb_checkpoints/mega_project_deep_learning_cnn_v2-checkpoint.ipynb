{
 "cells": [
  {
   "cell_type": "markdown",
   "metadata": {},
   "source": [
    "#### Version 2.0\n",
    "\n",
    "The project I am working on requires me to build and hopefully deploy a machine learning model. I am part of the TIA group, which focuses on the waste management problem in South Africa.\n",
    "\n",
    "My group's solution is mainly around the idea of a smart bin. \n",
    "\n",
    "The algorithm I will be using in this project is Deep Learning's Convolutional Neural Network. Which is widely used and praised for its accuracy and performance on image classification. In this project, I will be classifying images of waste. "
   ]
  },
  {
   "cell_type": "markdown",
   "metadata": {},
   "source": [
    "#### Import the essential packages that will be used."
   ]
  },
  {
   "cell_type": "code",
   "execution_count": 1,
   "metadata": {},
   "outputs": [],
   "source": [
    "# deep learning\n",
    "from keras.models import Sequential\n",
    "from keras.layers import Conv2D, MaxPooling2D\n",
    "from keras.layers import Activation, Dropout, Flatten, Dense\n",
    "from keras.callbacks import EarlyStopping, ModelCheckpoint\n",
    "\n",
    "# saving model\n",
    "import pickle\n",
    "\n",
    "# visualization\n",
    "import matplotlib.pyplot as plt\n",
    "import scipy\n",
    "import seaborn as sns\n",
    "from keras.utils.vis_utils import plot_model\n",
    "\n",
    "# processing and data generation\n",
    "import numpy as np\n",
    "from keras.preprocessing.image import ImageDataGenerator\n",
    "from keras.preprocessing import image\n",
    "from keras import backend as K"
   ]
  },
  {
   "cell_type": "markdown",
   "metadata": {},
   "source": [
    "#### Directory and define the labels/features\n",
    "\n",
    "* I'm giving the images a fixed width and height of 200 x 200.\n",
    "* train_data_dir and validation_data_dir are the locations of the data\n",
    "* For this model, we will be using 400 samples for training and 100 samples for validating.\n",
    "* We will use 50 for the batch size and 20 epochs.\n",
    "\n",
    "ref: https://docs.paperspace.com/machine-learning/wiki/epoch"
   ]
  },
  {
   "cell_type": "code",
   "execution_count": 2,
   "metadata": {},
   "outputs": [],
   "source": [
    "# set the image dimenions, all images will have height & width set to 200x200\n",
    "img_width, img_height = 200, 200\n",
    "\n",
    "# directory\n",
    "train_data_dir = 'organic_and_recyclable/'\n",
    "validation_data_dir = 'organic_and_recyclable/'\n",
    "\n",
    "# amount of samples that will be used in training and validation sets\n",
    "nb_train_samples = 400\n",
    "nb_validation_samples = 100\n",
    "\n",
    "# An epoch elapses when an entire dataset is passed forward and backward through the neural network exactly one time\n",
    "epochs = 20\n",
    "# Batch size is the total number of training samples present in a single min-batch\n",
    "batch_size = 50"
   ]
  },
  {
   "cell_type": "markdown",
   "metadata": {},
   "source": [
    "#### Clean data\n",
    "\n",
    "Here we are checking if the image is in the right format. For our model we will use RGB, since its waste images, it wiser to keep the color of the images as well. With dimensions 200 x 200.\n",
    "\n",
    "ref: https://www.tensorflow.org/api_docs/python/tf/keras/preprocessing/image/ImageDataGenerator\n",
    "ref: https://www.codesofinterest.com/2017/09/keras-image-data-format.html"
   ]
  },
  {
   "cell_type": "code",
   "execution_count": 3,
   "metadata": {},
   "outputs": [],
   "source": [
    "if K.image_data_format() == 'channels_first': #rgb\n",
    "    input_shape = (3, img_width, img_height) # 3 for 3 layers\n",
    "else:\n",
    "    input_shape = (img_width, img_height, 3)"
   ]
  },
  {
   "cell_type": "markdown",
   "metadata": {},
   "source": [
    "#### Generate training and tests sets\n",
    "\n",
    "Below are the references, you can go see what the parameters are.\n",
    "\n",
    "ref: https://vijayabhaskar96.medium.com/tutorial-on-keras-imagedatagenerator-with-flow-from-dataframe-8bd5776e45c1\n",
    "ref: https://www.tensorflow.org/api_docs/python/tf/keras/preprocessing/image/ImageDataGenerator#flow_from_directory"
   ]
  },
  {
   "cell_type": "code",
   "execution_count": 4,
   "metadata": {},
   "outputs": [],
   "source": [
    "# preprocessing the training set\n",
    "train_data_gen = ImageDataGenerator(rescale = 1. / 255, shear_range = 0.2, zoom_range = 0.2, horizontal_flip = True)"
   ]
  },
  {
   "cell_type": "code",
   "execution_count": 5,
   "metadata": {},
   "outputs": [],
   "source": [
    "# preprocessing the test set\n",
    "test_data_gen = ImageDataGenerator(rescale = 1. / 255)"
   ]
  },
  {
   "cell_type": "code",
   "execution_count": 6,
   "metadata": {},
   "outputs": [
    {
     "name": "stdout",
     "output_type": "stream",
     "text": [
      "Found 671 images belonging to 2 classes.\n"
     ]
    }
   ],
   "source": [
    "# generate the data\n",
    "train_generator = train_data_gen.flow_from_directory(\n",
    "    train_data_dir, target_size=(img_width, img_height), color_mode=\"rgb\", batch_size=batch_size, class_mode = 'binary')"
   ]
  },
  {
   "cell_type": "code",
   "execution_count": 7,
   "metadata": {},
   "outputs": [
    {
     "name": "stdout",
     "output_type": "stream",
     "text": [
      "Found 671 images belonging to 2 classes.\n"
     ]
    }
   ],
   "source": [
    "# generate the data\n",
    "validation_generator = test_data_gen.flow_from_directory(\n",
    "    validation_data_dir, target_size=(img_width, img_height), batch_size=batch_size, class_mode = 'binary')"
   ]
  },
  {
   "cell_type": "markdown",
   "metadata": {},
   "source": [
    "Above you can see, they are 671 images each for the two classes that we will be using in our CNN model.\n",
    "\n",
    "Below you can the 2 classes that are being mentioned above. \n",
    "Class O for Organic and Class R for Recyclable"
   ]
  },
  {
   "cell_type": "code",
   "execution_count": 8,
   "metadata": {},
   "outputs": [
    {
     "name": "stdout",
     "output_type": "stream",
     "text": [
      "{'O': 0, 'R': 1}\n"
     ]
    }
   ],
   "source": [
    "print(train_generator.class_indices)"
   ]
  },
  {
   "cell_type": "markdown",
   "metadata": {},
   "source": [
    "#### Create neural network\n",
    "Create neural network with Keras's Sequential\n",
    "\n",
    "ref: https://keras.io/api/models/sequential/\n",
    "ref: https://www.ibm.com/cloud/learn/convolutional-neural-networks#toc-convolutio-JgBTyG9C\n",
    "ref: https://towardsdatascience.com/a-comprehensive-guide-to-convolutional-neural-networks-the-eli5-way-3bd2b1164a53\n",
    "ref: https://www.tensorflow.org/tutorials/images/classification\n",
    "ref: https://keras.io/api/layers/convolution_layers/convolution2d/\n",
    "ref: https://medium.com/analytics-vidhya/a-guide-to-neural-network-layers-with-applications-in-keras-40ccb7ebb57a\n",
    "ref: https://www.upgrad.com/blog/basic-cnn-architecture/\n",
    "ref: https://www.geeksforgeeks.org/activation-functions-neural-networks/\n",
    "ref: https://www.baeldung.com/cs/ml-relu-dropout-layers#:~:text=The%20Dropout%20layer%20is%20a%20mask%20that%20nullifies,in%20which%20case%20it%20nullifies%20some%20hidden%20neurons.\n",
    "ref: https://tiddler.github.io/optimizers/"
   ]
  },
  {
   "cell_type": "code",
   "execution_count": 9,
   "metadata": {},
   "outputs": [],
   "source": [
    "# create Sequential object\n",
    "model = Sequential()\n",
    "\n",
    "# Add a Convolutional layer\n",
    "# 32 are the number of output filters in the convolution, \n",
    "# (3,3) is tuple/list of a single integer, specifying the length of the 1D convolution window\n",
    "model.add(Conv2D(32, (3, 3), input_shape=input_shape))\n",
    "# Activation function is relu\n",
    "model.add(Activation('relu'))\n",
    "# Adding our max pooling layer\n",
    "model.add(MaxPooling2D(pool_size=(2, 2)))\n",
    "\n",
    "# Add a Convolutional layer\n",
    "model.add(Conv2D(32, (3, 3)))\n",
    "# Activation function is relu\n",
    "model.add(Activation('relu'))\n",
    "# Adding our max pooling layer\n",
    "model.add(MaxPooling2D(pool_size=(2, 2)))\n",
    "\n",
    "# Add a Convolutional layer\n",
    "model.add(Conv2D(64, (3, 3)))\n",
    "# Activation function is relu\n",
    "model.add(Activation('relu'))\n",
    "# ading our max pooling layer\n",
    "model.add(MaxPooling2D(pool_size=(2, 2)))\n",
    "\n",
    "# Add a Convolutional layer\n",
    "model.add(Conv2D(128, (3, 3)))\n",
    "# Activation function is relu\n",
    "model.add(Activation('relu'))\n",
    "# ading our max pooling layer\n",
    "model.add(MaxPooling2D(pool_size=(2, 2)))\n",
    "\n",
    "# Add a Convolutional layer\n",
    "model.add(Conv2D(64, (3, 3)))\n",
    "# Activation function is relu\n",
    "model.add(Activation('relu'))\n",
    "# ading our max pooling layer\n",
    "model.add(MaxPooling2D(pool_size=(2, 2)))\n",
    "\n",
    "# Adding Our flattening Layer (flatten the image from 2d to 1d image)\n",
    "model.add(Flatten())\n",
    "\n",
    "# Fully Connected Layer\n",
    "model.add(Dense(32))\n",
    "# Activation function is relu\n",
    "model.add(Activation('relu'))\n",
    "\n",
    "# Dropout layers are important in training CNNs because they prevent overfitting on the training data\n",
    "model.add(Dropout(0.5))\n",
    "\n",
    "# Add the output layer, one output, whether 0 or 1, sigmoid activation makes this possible\n",
    "model.add(Dense(1))\n",
    "# Activation function is sigmoid\n",
    "model.add(Activation('sigmoid'))"
   ]
  },
  {
   "cell_type": "markdown",
   "metadata": {},
   "source": [
    "#### Summary\n",
    "\n",
    "ref: https://www.machinecurve.com/index.php/2020/04/01/how-to-generate-a-summary-of-your-keras-model/\n",
    "ref: https://izziswift.com/keras-model-summary-result-understanding-the-of-parameters/\n",
    "ref: https://machinelearningmastery.com/visualize-deep-learning-neural-network-model-keras/#:~:text=Keras%20provides%20a%20way%20to%20summarize%20a%20model.,the%20model.%20The%20output%20shape%20of%20each%20layer."
   ]
  },
  {
   "cell_type": "code",
   "execution_count": 10,
   "metadata": {},
   "outputs": [
    {
     "name": "stdout",
     "output_type": "stream",
     "text": [
      "Model: \"sequential\"\n",
      "_________________________________________________________________\n",
      "Layer (type)                 Output Shape              Param #   \n",
      "=================================================================\n",
      "conv2d (Conv2D)              (None, 198, 198, 32)      896       \n",
      "_________________________________________________________________\n",
      "activation (Activation)      (None, 198, 198, 32)      0         \n",
      "_________________________________________________________________\n",
      "max_pooling2d (MaxPooling2D) (None, 99, 99, 32)        0         \n",
      "_________________________________________________________________\n",
      "conv2d_1 (Conv2D)            (None, 97, 97, 32)        9248      \n",
      "_________________________________________________________________\n",
      "activation_1 (Activation)    (None, 97, 97, 32)        0         \n",
      "_________________________________________________________________\n",
      "max_pooling2d_1 (MaxPooling2 (None, 48, 48, 32)        0         \n",
      "_________________________________________________________________\n",
      "conv2d_2 (Conv2D)            (None, 46, 46, 64)        18496     \n",
      "_________________________________________________________________\n",
      "activation_2 (Activation)    (None, 46, 46, 64)        0         \n",
      "_________________________________________________________________\n",
      "max_pooling2d_2 (MaxPooling2 (None, 23, 23, 64)        0         \n",
      "_________________________________________________________________\n",
      "conv2d_3 (Conv2D)            (None, 21, 21, 128)       73856     \n",
      "_________________________________________________________________\n",
      "activation_3 (Activation)    (None, 21, 21, 128)       0         \n",
      "_________________________________________________________________\n",
      "max_pooling2d_3 (MaxPooling2 (None, 10, 10, 128)       0         \n",
      "_________________________________________________________________\n",
      "conv2d_4 (Conv2D)            (None, 8, 8, 64)          73792     \n",
      "_________________________________________________________________\n",
      "activation_4 (Activation)    (None, 8, 8, 64)          0         \n",
      "_________________________________________________________________\n",
      "max_pooling2d_4 (MaxPooling2 (None, 4, 4, 64)          0         \n",
      "_________________________________________________________________\n",
      "flatten (Flatten)            (None, 1024)              0         \n",
      "_________________________________________________________________\n",
      "dense (Dense)                (None, 32)                32800     \n",
      "_________________________________________________________________\n",
      "activation_5 (Activation)    (None, 32)                0         \n",
      "_________________________________________________________________\n",
      "dropout (Dropout)            (None, 32)                0         \n",
      "_________________________________________________________________\n",
      "dense_1 (Dense)              (None, 1)                 33        \n",
      "_________________________________________________________________\n",
      "activation_6 (Activation)    (None, 1)                 0         \n",
      "=================================================================\n",
      "Total params: 209,121\n",
      "Trainable params: 209,121\n",
      "Non-trainable params: 0\n",
      "_________________________________________________________________\n"
     ]
    }
   ],
   "source": [
    "# Show what was the neural network has done\n",
    "model.summary()"
   ]
  },
  {
   "cell_type": "markdown",
   "metadata": {},
   "source": [
    "Below, the size of input images are 200x200. We used 3x3 filters so the size of feature maps are 198x198. \n",
    "The size is reduced to half in the first pooling layer. At each convolution-pooling layer pair, the size is reduced but features in the images are preserved (for example the 32, 64 and 128). In this model, we have more than 200k parameters to train, which is a lot."
   ]
  },
  {
   "cell_type": "markdown",
   "metadata": {},
   "source": [
    "#### Compiling and Fitting/Training model\n",
    "\n",
    "In the next steps, we are going to implement EarlyStopping callback from Keras. This stops the model from training when a monitored metric has stopped improving.\n",
    "Then we move on to compile the model with loss as binary_crossentropy since it's a binary problem and not a categorical problem. (Binary: 0 or 1/O or R). We will accuracy as metrics and adam for the optimizer.\n",
    "Lastly, we train the model\n",
    "\n",
    "ref: https://towardsdatascience.com/a-quick-guide-to-neural-network-optimizers-with-applications-in-keras-e4635dd1cca4\n",
    "ref: https://keras.io/api/callbacks/model_checkpoint/\n",
    "ref: https://keras.io/api/callbacks/early_stopping/\n",
    "ref: https://machinelearningmastery.com/how-to-stop-training-deep-neural-networks-at-the-right-time-using-early-stopping/#:~:text=Early%20Stopping%20in%20Keras%20Keras%20supports%20the%20early,EarlyStopping%20callback%20is%20configured%20when%20instantiated%20via%20arguments.\n",
    "ref: https://nickmccullum.com/python-deep-learning/convolutional-neural-network-tutorial/#training-the-convolutional-neural-network\n",
    "ref: https://docs.paperspace.com/machine-learning/wiki/accuracy-and-loss"
   ]
  },
  {
   "cell_type": "code",
   "execution_count": 11,
   "metadata": {},
   "outputs": [],
   "source": [
    "# patience: Number of epochs with no improvement after which training will be stopped. \n",
    "# Since we have 20 epochs, we can have patience = 7. Not too high, not too low.\n",
    "early_stopping = EarlyStopping(monitor='val_loss', mode='min', patience=7, verbose=1)"
   ]
  },
  {
   "cell_type": "code",
   "execution_count": 12,
   "metadata": {},
   "outputs": [],
   "source": [
    "# However, the model at the end of training may not be the model with best performance on the validation dataset. \n",
    "# ModelCheckpoint will save the best model observed during training for later use.\n",
    "model_checkpoint = ModelCheckpoint('best_model_during_training_v1.h5', monitor='val_accuracy', mode='max', verbose=1, save_best_only=True)"
   ]
  },
  {
   "cell_type": "code",
   "execution_count": 13,
   "metadata": {},
   "outputs": [],
   "source": [
    "# compile the model.\n",
    "model.compile(loss='binary_crossentropy', optimizer='rmsprop', metrics=['accuracy']) # rmsprop"
   ]
  },
  {
   "cell_type": "code",
   "execution_count": 14,
   "metadata": {},
   "outputs": [
    {
     "name": "stdout",
     "output_type": "stream",
     "text": [
      "Epoch 1/20\n",
      "8/8 [==============================] - 28s 3s/step - loss: 0.7065 - accuracy: 0.4779 - val_loss: 0.6816 - val_accuracy: 0.5300\n",
      "\n",
      "Epoch 00001: val_accuracy improved from -inf to 0.53000, saving model to best_model_during_training_v1.h5\n",
      "Epoch 2/20\n",
      "8/8 [==============================] - 17s 2s/step - loss: 0.7130 - accuracy: 0.5584 - val_loss: 0.6756 - val_accuracy: 0.7800\n",
      "\n",
      "Epoch 00002: val_accuracy improved from 0.53000 to 0.78000, saving model to best_model_during_training_v1.h5\n",
      "Epoch 3/20\n",
      "8/8 [==============================] - 18s 2s/step - loss: 0.6444 - accuracy: 0.6484 - val_loss: 0.5943 - val_accuracy: 0.7300\n",
      "\n",
      "Epoch 00003: val_accuracy did not improve from 0.78000\n",
      "Epoch 4/20\n",
      "8/8 [==============================] - 21s 3s/step - loss: 0.5493 - accuracy: 0.7861 - val_loss: 0.4583 - val_accuracy: 0.8600\n",
      "\n",
      "Epoch 00004: val_accuracy improved from 0.78000 to 0.86000, saving model to best_model_during_training_v1.h5\n",
      "Epoch 5/20\n",
      "8/8 [==============================] - 19s 2s/step - loss: 0.4191 - accuracy: 0.8934 - val_loss: 0.4067 - val_accuracy: 0.8500\n",
      "\n",
      "Epoch 00005: val_accuracy did not improve from 0.86000\n",
      "Epoch 6/20\n",
      "8/8 [==============================] - 17s 2s/step - loss: 0.4506 - accuracy: 0.7753 - val_loss: 0.4542 - val_accuracy: 0.8000\n",
      "\n",
      "Epoch 00006: val_accuracy did not improve from 0.86000\n",
      "Epoch 7/20\n",
      "8/8 [==============================] - 17s 2s/step - loss: 0.3810 - accuracy: 0.8128 - val_loss: 0.3368 - val_accuracy: 0.9100\n",
      "\n",
      "Epoch 00007: val_accuracy improved from 0.86000 to 0.91000, saving model to best_model_during_training_v1.h5\n",
      "Epoch 8/20\n",
      "8/8 [==============================] - 16s 2s/step - loss: 0.4343 - accuracy: 0.8244 - val_loss: 0.2234 - val_accuracy: 0.9100\n",
      "\n",
      "Epoch 00008: val_accuracy did not improve from 0.91000\n",
      "Epoch 9/20\n",
      "8/8 [==============================] - 19s 2s/step - loss: 0.3091 - accuracy: 0.8754 - val_loss: 0.2777 - val_accuracy: 0.9000\n",
      "\n",
      "Epoch 00009: val_accuracy did not improve from 0.91000\n",
      "Epoch 10/20\n",
      "8/8 [==============================] - 16s 2s/step - loss: 0.4339 - accuracy: 0.8148 - val_loss: 0.4920 - val_accuracy: 0.8700\n",
      "\n",
      "Epoch 00010: val_accuracy did not improve from 0.91000\n",
      "Epoch 11/20\n",
      "8/8 [==============================] - 15s 2s/step - loss: 0.4230 - accuracy: 0.8666 - val_loss: 0.2551 - val_accuracy: 0.9000\n",
      "\n",
      "Epoch 00011: val_accuracy did not improve from 0.91000\n",
      "Epoch 12/20\n",
      "8/8 [==============================] - 16s 2s/step - loss: 0.2900 - accuracy: 0.9259 - val_loss: 0.2536 - val_accuracy: 0.9100\n",
      "\n",
      "Epoch 00012: val_accuracy did not improve from 0.91000\n",
      "Epoch 13/20\n",
      "8/8 [==============================] - 16s 2s/step - loss: 0.4575 - accuracy: 0.8561 - val_loss: 0.2207 - val_accuracy: 0.9100\n",
      "\n",
      "Epoch 00013: val_accuracy did not improve from 0.91000\n",
      "Epoch 14/20\n",
      "8/8 [==============================] - 19s 2s/step - loss: 0.3424 - accuracy: 0.8737 - val_loss: 0.1856 - val_accuracy: 0.9300\n",
      "\n",
      "Epoch 00014: val_accuracy improved from 0.91000 to 0.93000, saving model to best_model_during_training_v1.h5\n",
      "Epoch 15/20\n",
      "8/8 [==============================] - 18s 2s/step - loss: 0.2783 - accuracy: 0.8914 - val_loss: 0.3497 - val_accuracy: 0.8900\n",
      "\n",
      "Epoch 00015: val_accuracy did not improve from 0.93000\n",
      "Epoch 16/20\n",
      "8/8 [==============================] - 18s 2s/step - loss: 0.3634 - accuracy: 0.8313 - val_loss: 0.2778 - val_accuracy: 0.9200\n",
      "\n",
      "Epoch 00016: val_accuracy did not improve from 0.93000\n",
      "Epoch 17/20\n",
      "8/8 [==============================] - 17s 2s/step - loss: 0.2865 - accuracy: 0.9132 - val_loss: 0.1366 - val_accuracy: 0.9500\n",
      "\n",
      "Epoch 00017: val_accuracy improved from 0.93000 to 0.95000, saving model to best_model_during_training_v1.h5\n",
      "Epoch 18/20\n",
      "8/8 [==============================] - 17s 2s/step - loss: 0.2410 - accuracy: 0.9319 - val_loss: 0.1821 - val_accuracy: 0.9100\n",
      "\n",
      "Epoch 00018: val_accuracy did not improve from 0.95000\n",
      "Epoch 19/20\n",
      "8/8 [==============================] - 16s 2s/step - loss: 0.2337 - accuracy: 0.9254 - val_loss: 0.1522 - val_accuracy: 0.9100\n",
      "\n",
      "Epoch 00019: val_accuracy did not improve from 0.95000\n",
      "Epoch 20/20\n",
      "8/8 [==============================] - 17s 2s/step - loss: 0.1944 - accuracy: 0.9443 - val_loss: 0.6313 - val_accuracy: 0.7900\n",
      "\n",
      "Epoch 00020: val_accuracy did not improve from 0.95000\n"
     ]
    }
   ],
   "source": [
    "# fit the model\n",
    "history_model = model.fit(train_generator, \n",
    "          steps_per_epoch = nb_train_samples // batch_size, \n",
    "          epochs = epochs, \n",
    "          validation_data = validation_generator,\n",
    "          callbacks=[early_stopping, model_checkpoint],\n",
    "          validation_steps = nb_validation_samples // batch_size)"
   ]
  },
  {
   "cell_type": "markdown",
   "metadata": {},
   "source": [
    "We can see that the model is finished training. At the end of the epoch we have a accuracy rate of 79%, but thanks to ModelCheckpoint we were able to save our best model with accuracy rate of 95%.\n",
    "\n",
    "This means that EarlyStopping saw no need to stop the epoch before the model start performing bad. Let me elaborate in the performance comparisons."
   ]
  },
  {
   "cell_type": "markdown",
   "metadata": {},
   "source": [
    "#### Evaluate the model"
   ]
  },
  {
   "cell_type": "markdown",
   "metadata": {},
   "source": [
    "ref: https://stackoverflow.com/questions/34518656/how-to-interpret-loss-and-accuracy-for-a-machine-learning-model\n",
    "ref: https://www.javacodemonk.com/difference-between-loss-accuracy-validation-loss-validation-accuracy-in-keras-ff358faa\n",
    "ref: https://kharshit.github.io/blog/2018/12/07/loss-vs-accuracy"
   ]
  },
  {
   "cell_type": "code",
   "execution_count": 21,
   "metadata": {},
   "outputs": [
    {
     "name": "stdout",
     "output_type": "stream",
     "text": [
      "14/14 [==============================] - 6s 438ms/step - loss: 0.6923 - accuracy: 0.7973\n",
      "loss= 0.6922569870948792\n",
      "accuracy= 79.73174452781677\n"
     ]
    }
   ],
   "source": [
    "score = model.evaluate(validation_generator, verbose=1)\n",
    "\n",
    "# After evaluating our model, we can see that our actual accuracy is 79.73% and our loss is 0.6922\n",
    "print('loss=', score[0])\n",
    "print('accuracy=', score[1]*100)"
   ]
  },
  {
   "cell_type": "markdown",
   "metadata": {},
   "source": [
    "#### Performance comparisons\n",
    "\n",
    "\"The History.history attribute is a dictionary recording training loss values and metrics values at successive epochs, as well as validation loss values and validation metrics values (if applicable).\""
   ]
  },
  {
   "cell_type": "code",
   "execution_count": 16,
   "metadata": {},
   "outputs": [
    {
     "name": "stdout",
     "output_type": "stream",
     "text": [
      "dict_keys(['loss', 'accuracy', 'val_loss', 'val_accuracy'])\n"
     ]
    }
   ],
   "source": [
    "print(history_model.history.keys())"
   ]
  },
  {
   "cell_type": "code",
   "execution_count": 17,
   "metadata": {},
   "outputs": [
    {
     "data": {
      "image/png": "[encoded data removed]",
      "text/plain": [
       "<Figure size 432x288 with 1 Axes>"
      ]
     },
     "metadata": {
      "needs_background": "light"
     },
     "output_type": "display_data"
    }
   ],
   "source": [
    "# Model Accuracy comparison\n",
    "plt.plot(history_model.history['accuracy'])\n",
    "plt.plot(history_model.history['val_accuracy'])\n",
    "plt.legend(['accuracy','validation_accuracy'])\n",
    "plt.ylabel('accuracy')\n",
    "plt.xlabel('epoch')\n",
    "plt.title('Model Accuracy')\n",
    "plt.show()"
   ]
  },
  {
   "cell_type": "markdown",
   "metadata": {},
   "source": [
    "By looking at the graph above, we can how the model performed. Both the training accuracy and validation accuracy are stable as the epoch go by, except at the end. At the end of the epoch run, we got a dip in accuracy with 79% for the validation_accuracy.\n",
    "\n",
    "EarlyStopping did not stop the epoch, maybe because we used patience = 7. If the patience was 5, then there's a possibility EarlyStopping would have indeed stopped earlier when the model stopped improving.\n",
    "\n",
    "Thanks to ModelCheckpoint, it saved the best run of our model at 95% accuracy. That's epoch 17."
   ]
  },
  {
   "cell_type": "code",
   "execution_count": 18,
   "metadata": {},
   "outputs": [
    {
     "data": {
      "image/png": "[encoded data removed]",
      "text/plain": [
       "<Figure size 432x288 with 1 Axes>"
      ]
     },
     "metadata": {
      "needs_background": "light"
     },
     "output_type": "display_data"
    }
   ],
   "source": [
    "# Model Loss Comparison\n",
    "plt.plot(history_model.history['loss'])\n",
    "plt.plot(history_model.history['val_loss'])\n",
    "plt.legend(['loss','validation_loss'])\n",
    "plt.ylabel('loss')\n",
    "plt.xlabel('epoch')\n",
    "plt.title('Model Loss')\n",
    "plt.show()"
   ]
  },
  {
   "cell_type": "markdown",
   "metadata": {},
   "source": [
    "By looking at the graph above, we can tell that the model was probably going in the direction of overfitted at the end. That's when the validation_loss began to spike.\n",
    "\n",
    "For the most part of the training, the loss for both datasets was fairly stable."
   ]
  },
  {
   "cell_type": "markdown",
   "metadata": {},
   "source": [
    "#### Save model"
   ]
  },
  {
   "cell_type": "markdown",
   "metadata": {},
   "source": [
    "Always wise to save the model. Will come in handy when we are to apply it to a real-world setting. \n",
    "Now we're going to check the model's performance on unseen data in another notebook.\n",
    "With a high accuracy of 87.4% we can have a sense of idea how it will perform in a real-world setting."
   ]
  },
  {
   "cell_type": "code",
   "execution_count": 19,
   "metadata": {},
   "outputs": [],
   "source": [
    "model.save('cnn_model_v6.h5')"
   ]
  },
  {
   "cell_type": "code",
   "execution_count": null,
   "metadata": {},
   "outputs": [],
   "source": []
  }
 ],
 "metadata": {
  "kernelspec": {
   "display_name": "Python 3",
   "language": "python",
   "name": "python3"
  },
  "language_info": {
   "codemirror_mode": {
    "name": "ipython",
    "version": 3
   },
   "file_extension": ".py",
   "mimetype": "text/x-python",
   "name": "python",
   "nbconvert_exporter": "python",
   "pygments_lexer": "ipython3",
   "version": "3.8.5"
  }
 },
 "nbformat": 4,
 "nbformat_minor": 4
}
